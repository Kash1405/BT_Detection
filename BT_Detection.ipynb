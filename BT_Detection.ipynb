{
 "cells": [
  {
   "cell_type": "code",
   "execution_count": null,
   "metadata": {
    "execution": {
     "iopub.execute_input": "2022-08-30T10:11:44.613789Z",
     "iopub.status.busy": "2022-08-30T10:11:44.613482Z",
     "iopub.status.idle": "2022-08-30T10:11:49.137633Z",
     "shell.execute_reply": "2022-08-30T10:11:49.136518Z",
     "shell.execute_reply.started": "2022-08-30T10:11:44.613758Z"
    },
    "id": "thzvF-fDtrP2"
   },
   "outputs": [],
   "source": [
    "# installing any packages (if required)\n",
    "! pip install imutils"
   ]
  },
  {
   "cell_type": "code",
   "execution_count": null,
   "metadata": {
    "execution": {
     "iopub.execute_input": "2022-08-30T10:11:49.139186Z",
     "iopub.status.busy": "2022-08-30T10:11:49.138713Z",
     "iopub.status.idle": "2022-08-30T10:11:49.441704Z",
     "shell.execute_reply": "2022-08-30T10:11:49.439663Z",
     "shell.execute_reply.started": "2022-08-30T10:11:49.139159Z"
    },
    "id": "_B8apecg3-Nl"
   },
   "outputs": [],
   "source": [
    "# importing required libraries and dependencies\n",
    "import numpy as np\n",
    "import cv2\n",
    "from imutils import paths\n",
    "import matplotlib.pyplot as plt\n",
    "import argparse\n",
    "import os\n",
    "\n",
    "import skimage\n",
    "from skimage.transform import resize\n",
    "\n",
    "import keras\n",
    "from keras.preprocessing.image import ImageDataGenerator\n",
    "from keras.applications.vgg16 import VGG16\n",
    "from keras.layers import AveragePooling2D, Dropout,Flatten,Dense,Input\n",
    "from keras.models import Model\n",
    "\n",
    "from sklearn.preprocessing import LabelBinarizer\n",
    "from sklearn.model_selection import train_test_split\n",
    "from sklearn.metrics import classification_report\n",
    "from sklearn.metrics import accuracy_score\n",
    "from sklearn.metrics import confusion_matrix\n",
    "\n",
    "from tensorflow import keras\n",
    "from tensorflow.keras import layers\n",
    "from tensorflow.keras.optimizers import Adam\n",
    "from tensorflow.keras.utils import to_categorical"
   ]
  },
  {
   "cell_type": "code",
   "execution_count": null,
   "metadata": {
    "execution": {
     "iopub.execute_input": "2022-08-30T10:11:49.451660Z",
     "iopub.status.busy": "2022-08-30T10:11:49.451396Z",
     "iopub.status.idle": "2022-08-30T10:12:14.728360Z",
     "shell.execute_reply": "2022-08-30T10:12:14.726184Z",
     "shell.execute_reply.started": "2022-08-30T10:11:49.451635Z"
    },
    "id": "PCOOYRq95Sjd"
   },
   "outputs": [],
   "source": [
    "# fetching the dataset\n",
    "dataset = \"BT_Dataset/\"\n",
    "args={}\n",
    "args[\"dataset\"]=dataset\n",
    "\n",
    "# sub-directories pointing to tumor and non-tumor MRI scans\n",
    "y_images = os.listdir(dataset+\"Tumor\")\n",
    "n_images = os.listdir(dataset+\"NoTumor\")\n",
    "\n",
    "# splitting image paths, converting images into RGB channels, and resizing images\n",
    "image_paths = list(paths.list_images(args[\"dataset\"]))\n",
    "data = []\n",
    "labels = []\n",
    "for path in image_paths:\n",
    "\n",
    "    # path splitting\n",
    "    label = path.split(os.path.sep)[-2]\n",
    "    image = cv2.imread(path)\n",
    "\n",
    "    # converting to RGB channels\n",
    "    image = cv2.cvtColor(image, cv2.COLOR_BGR2RGB)\n",
    "\n",
    "    # resizing images to uniform size\n",
    "    image = cv2.resize(image, (224, 224))\n",
    "\n",
    "    # appending values to data and labels\n",
    "    data.append(image)\n",
    "    labels.append(label)\n",
    "    \n",
    "data = np.array(data) / 255.0\n",
    "labels = np.array(labels)\n",
    "\n",
    "# displaying the size of dataset\n",
    "print(len(data))"
   ]
  },
  {
   "cell_type": "code",
   "execution_count": null,
   "metadata": {
    "colab": {
     "base_uri": "https://localhost:8080/",
     "height": 1000
    },
    "execution": {
     "iopub.execute_input": "2022-08-30T10:12:14.756131Z",
     "iopub.status.busy": "2022-08-30T10:12:14.755825Z",
     "iopub.status.idle": "2022-08-30T10:12:16.067146Z",
     "shell.execute_reply": "2022-08-30T10:12:16.066252Z",
     "shell.execute_reply.started": "2022-08-30T10:12:14.756106Z"
    },
    "id": "HnYHPrCN51k5",
    "outputId": "c0f783fa-686f-4562-ef6b-13edb713e55c"
   },
   "outputs": [],
   "source": [
    "# function displaying sample set of processed MRI scans\n",
    "def plotter(i):\n",
    "\n",
    "    # MRI scan with tumors\n",
    "    tumor = cv2.imread(dataset+\"Tumor//\"+y_images[i])\n",
    "    tumor = skimage.transform.resize(tumor, (150, 150, 3) , mode = 'reflect')\n",
    "\n",
    "    # MRI scan with no tumors\n",
    "    no_tumor = cv2.imread(dataset+\"NoTumor//\"+n_images[i])\n",
    "    no_tumor = skimage.transform.resize(no_tumor, (150, 150, 3))\n",
    "    \n",
    "    # concatenating for display\n",
    "    pair = np.concatenate((tumor, no_tumor), axis=1)\n",
    "    print(\"Tumor vs No Tumor MRI\")\n",
    "    plt.figure(figsize=(10,5))\n",
    "    plt.imshow(pair)\n",
    "    plt.show()\n",
    "\n",
    "# plotting the images\n",
    "for i in range(0,5):\n",
    "    plotter(i)"
   ]
  },
  {
   "cell_type": "code",
   "execution_count": null,
   "metadata": {
    "execution": {
     "iopub.execute_input": "2022-08-30T10:12:16.068479Z",
     "iopub.status.busy": "2022-08-30T10:12:16.068156Z",
     "iopub.status.idle": "2022-08-30T10:12:16.082427Z",
     "shell.execute_reply": "2022-08-30T10:12:16.081637Z",
     "shell.execute_reply.started": "2022-08-30T10:12:16.068479Z"
    },
    "id": "-X2VE2265305"
   },
   "outputs": [],
   "source": [
    "# setting up a label binarizer\n",
    "LB = LabelBinarizer()  \n",
    "\n",
    "#Initializing the label binarizer\n",
    "labels = LB.fit_transform(labels)\n",
    "labels = to_categorical(labels)\n",
    "\n",
    "# train-test split\n",
    "(X_train, X_test, Y_train, Y_test) = train_test_split(data, labels, test_size=0.20, stratify=labels, random_state=42)\n",
    "print(X_train.shape,X_test.shape,Y_train.shape,Y_test.shape)"
   ]
  },
  {
   "cell_type": "code",
   "execution_count": null,
   "metadata": {
    "colab": {
     "base_uri": "https://localhost:8080/"
    },
    "execution": {
     "iopub.execute_input": "2022-08-30T10:12:25.141092Z",
     "iopub.status.busy": "2022-08-30T10:12:25.140209Z",
     "iopub.status.idle": "2022-08-30T10:12:27.098843Z",
     "shell.execute_reply": "2022-08-30T10:12:27.095595Z",
     "shell.execute_reply.started": "2022-08-30T10:12:25.141053Z"
    },
    "id": "9emimj3H5-8F",
    "outputId": "c59153ad-9f06-4783-877e-8697f0536a6d"
   },
   "outputs": [],
   "source": [
    "# setting up base model and head models\n",
    "base_model = VGG16(weights=\"imagenet\", include_top=False,input_tensor=Input(shape=(224, 224, 3)))\n",
    "head_model = base_model.output\n",
    "\n",
    "# pooling\n",
    "head_model = AveragePooling2D(pool_size=(4, 4))(head_model)\n",
    "\n",
    "# flattening\n",
    "head_model = Flatten(name=\"flatten\")(head_model)\n",
    "\n",
    "# creating connected layers using relu\n",
    "head_model = Dense(64, activation=\"relu\")(head_model)\n",
    "\n",
    "# preventing overfitting\n",
    "head_model = Dropout(0.5)(head_model)\n",
    "\n",
    "# Dense using softmax activation\n",
    "head_model = Dense(2, activation=\"softmax\")(head_model)\n",
    "model = Model(inputs=base_model.input, outputs=head_model)\n",
    "\n",
    "for layer in base_model.layers:\n",
    "    layer.trainable = False"
   ]
  },
  {
   "cell_type": "code",
   "execution_count": null,
   "metadata": {
    "colab": {
     "base_uri": "https://localhost:8080/"
    },
    "execution": {
     "iopub.execute_input": "2022-08-30T10:12:27.141117Z",
     "iopub.status.busy": "2022-08-30T10:12:27.139677Z",
     "iopub.status.idle": "2022-08-30T10:18:23.116043Z",
     "shell.execute_reply": "2022-08-30T10:18:23.115105Z",
     "shell.execute_reply.started": "2022-08-30T10:12:27.141053Z"
    },
    "id": "T9_myp4r6DbU",
    "outputId": "77ea5e17-f123-43a4-a696-44f69aa09bb4"
   },
   "outputs": [],
   "source": [
    "# setting up learning rate, number of epochs and batch size\n",
    "INIT_LR = 1e-3\n",
    "EPOCHS = 10\n",
    "BS = 8\n",
    "\n",
    "# rotate images to create more data\n",
    "augmented = ImageDataGenerator(\n",
    "    rotation_range=15,\n",
    "    fill_mode=\"nearest\")\n",
    "\n",
    "# set Adam optimizer\n",
    "opt = Adam(learning_rate=INIT_LR, decay=INIT_LR / EPOCHS)\n",
    "\n",
    "# compiling the model\n",
    "model.compile(loss=\"binary_crossentropy\", optimizer=opt,metrics=[\"accuracy\"])\n",
    "\n",
    "# training the model and storing loss records\n",
    "R = model.fit_generator(\n",
    "    augmented.flow(X_train, Y_train, batch_size=BS),\n",
    "    steps_per_epoch=len(X_train) // BS,\n",
    "    validation_data=(X_test, Y_test),\n",
    "    validation_steps=len(X_test) // BS,\n",
    "    epochs=EPOCHS)"
   ]
  },
  {
   "cell_type": "code",
   "execution_count": null,
   "metadata": {
    "execution": {
     "iopub.execute_input": "2022-08-30T10:18:45.996508Z",
     "iopub.status.busy": "2022-08-30T10:18:45.995553Z",
     "iopub.status.idle": "2022-08-30T10:18:46.968229Z",
     "shell.execute_reply": "2022-08-30T10:18:46.967093Z",
     "shell.execute_reply.started": "2022-08-30T10:18:45.996456Z"
    },
    "id": "tcHI92TF6NqS"
   },
   "outputs": [],
   "source": [
    "# plot the accuracy using the stored record R\n",
    "plt.plot(R.history['accuracy'], label='train acc')\n",
    "plt.plot(R.history['val_accuracy'], label='val acc')\n",
    "plt.legend()\n",
    "plt.show()\n",
    "plt.savefig('accuracy')\n",
    "\n",
    "# plotting the loss using the stored record R\n",
    "plt.plot(R.history['loss'], label='train loss')\n",
    "plt.plot(R.history['val_loss'], label='val loss')\n",
    "plt.legend()\n",
    "plt.show()\n",
    "plt.savefig('loss')"
   ]
  },
  {
   "cell_type": "code",
   "execution_count": null,
   "metadata": {
    "execution": {
     "iopub.execute_input": "2022-08-30T10:18:36.865341Z",
     "iopub.status.busy": "2022-08-30T10:18:36.864555Z",
     "iopub.status.idle": "2022-08-30T10:18:45.966063Z",
     "shell.execute_reply": "2022-08-30T10:18:45.964924Z",
     "shell.execute_reply.started": "2022-08-30T10:18:36.865309Z"
    },
    "id": "2kHyIvj56G0i"
   },
   "outputs": [],
   "source": [
    "y_pred = model.predict(X_test, batch_size=BS)\n",
    "y_pred = np.argmax(y_pred, axis=1)\n",
    "\n",
    "# print accuracy score\n",
    "print('Accuracy score : ',accuracy_score(Y_test.argmax(axis=1),y_pred)*100,'%')\n",
    "\n",
    "# print classificaiton report\n",
    "print(classification_report(Y_test.argmax(axis=1), y_pred,target_names=LB.classes_))"
   ]
  },
  {
   "cell_type": "code",
   "execution_count": null,
   "metadata": {
    "execution": {
     "iopub.execute_input": "2022-08-30T10:18:23.118263Z",
     "iopub.status.busy": "2022-08-30T10:18:23.117373Z",
     "iopub.status.idle": "2022-08-30T10:18:36.863599Z",
     "shell.execute_reply": "2022-08-30T10:18:36.862843Z",
     "shell.execute_reply.started": "2022-08-30T10:18:23.118236Z"
    },
    "id": "Gw87gcNk6GKo"
   },
   "outputs": [],
   "source": [
    "# Plotting examples to check model\n",
    "L, W = 6, 5\n",
    "fig, axes = plt.subplots(L, W, figsize = (12, 12))\n",
    "axes = axes.ravel()\n",
    "\n",
    "# prediction using thr model on a random test set of size L*W\n",
    "y_pred = model.predict(X_test, batch_size=BS)\n",
    "for i in np.arange(0,L*W):\n",
    "    axes[i].imshow(X_test[i])\n",
    "    axes[i].set_title('Prediction = {}\\n True = {}'.format(y_pred.argmax(axis=1)[i], Y_test.argmax(axis=1)[i]))\n",
    "    axes[i].axis('off')\n",
    "\n",
    "# plotting the predictions\n",
    "plt.subplots_adjust(wspace = 0.5, hspace=0.5)   "
   ]
  },
  {
   "cell_type": "code",
   "execution_count": null,
   "metadata": {
    "execution": {
     "iopub.execute_input": "2022-08-30T10:18:45.977211Z",
     "iopub.status.busy": "2022-08-30T10:18:45.976833Z",
     "iopub.status.idle": "2022-08-30T10:18:45.993372Z",
     "shell.execute_reply": "2022-08-30T10:18:45.991819Z",
     "shell.execute_reply.started": "2022-08-30T10:18:45.977170Z"
    },
    "id": "F07kM-H76Ktj"
   },
   "outputs": [],
   "source": [
    "# printing sensitivity & specificity using a confusion matrix\n",
    "cmatrix = confusion_matrix(Y_test.argmax(axis=1), y_pred)\n",
    "sensitivity = cmatrix [0, 0] / (cmatrix [0, 0] + cmatrix [0, 1])\n",
    "specificity = cmatrix [1, 1] / (cmatrix [1, 0] + cmatrix [1, 1])\n",
    "print('Confusion Matrix: ')\n",
    "print(cmatrix)\n",
    "print(\"sensitivity: {:.3f}\".format(sensitivity))\n",
    "print(\"specificity: {:.3f}\".format(specificity))"
   ]
  },
  {
   "cell_type": "code",
   "execution_count": 22,
   "metadata": {
    "execution": {
     "iopub.execute_input": "2022-08-30T10:18:46.969650Z",
     "iopub.status.busy": "2022-08-30T10:18:46.969204Z",
     "iopub.status.idle": "2022-08-30T10:18:47.814915Z",
     "shell.execute_reply": "2022-08-30T10:18:47.814084Z",
     "shell.execute_reply.started": "2022-08-30T10:18:46.969650Z"
    },
    "id": "nLwns4JF6PYd"
   },
   "outputs": [],
   "source": [
    "# saving the model as .h5 file\n",
    "model.save('Brain_model.h5')"
   ]
  },
  {
   "cell_type": "code",
   "execution_count": null,
   "metadata": {},
   "outputs": [],
   "source": [
    "# import files to run the model on new inputs\n",
    "import numpy as np\n",
    "from flask import jsonify\n",
    "from keras.preprocessing import image\n",
    "from keras.models import load_model\n",
    "from google.colab import files"
   ]
  },
  {
   "cell_type": "code",
   "execution_count": null,
   "metadata": {
    "execution": {
     "iopub.execute_input": "2022-08-30T10:37:48.528407Z",
     "iopub.status.busy": "2022-08-30T10:37:48.528173Z",
     "iopub.status.idle": "2022-08-30T10:37:48.555909Z",
     "shell.execute_reply": "2022-08-30T10:37:48.554641Z",
     "shell.execute_reply.started": "2022-08-30T10:37:48.528380Z"
    },
    "id": "avPRN-zt6RlD"
   },
   "outputs": [],
   "source": [
    "# running the model to detect tumor in an input MRI scan of suitable size\n",
    "image1 = files.upload()\n",
    "image_list = list(image1.keys())\n",
    "image1 = image_list[0]\n",
    "print('Image : ',image1, '\\n')\n",
    "print('File uploaded.\\n')\n",
    "new_model = load_model('Brain_model.h5')\n",
    "\n",
    "# editing file to suit requirements\n",
    "test_image = image.load_img(image1,target_size=(224,224))\n",
    "test_image = image.img_to_array(test_image)\n",
    "test_image = np.expand_dims(test_image, axis = 0)\n",
    "print('generating results\\n')\n",
    "\n",
    "# predicting the result on the input scan\n",
    "result = new_model.predict(test_image)\n",
    "print('Results : ',result)\n",
    "y_pred = np.argmax(result, axis=1)\n",
    "print('Model prediction: ',result)\n",
    "prediction = \"\"\n",
    "\n",
    "# displaying the output of the model\n",
    "if result[0][0]==1.0 and result[0][1]==0:\n",
    "  prediction = \"Error: check valid only for MRI scans\"\n",
    "elif y_pred == 1:\n",
    "  prediction = 'Patient has Tumour'\n",
    "else:\n",
    "  prediction = 'Patient is Healthy'"
   ]
  }
 ],
 "metadata": {
  "colab": {
   "collapsed_sections": [],
   "name": "BTDetection.ipynb",
   "provenance": []
  },
  "gpuClass": "standard",
  "kernelspec": {
   "display_name": "Python 3.9.12 ('base')",
   "language": "python",
   "name": "python3"
  },
  "language_info": {
   "codemirror_mode": {
    "name": "ipython",
    "version": 3
   },
   "file_extension": ".py",
   "mimetype": "text/x-python",
   "name": "python",
   "nbconvert_exporter": "python",
   "pygments_lexer": "ipython3",
   "version": "3.9.12"
  },
  "vscode": {
   "interpreter": {
    "hash": "ccd4bbac25d4df9d8a05df1d9afbb9d8cfcf3d6d106801d470ed503b8756427f"
   }
  }
 },
 "nbformat": 4,
 "nbformat_minor": 4
}
